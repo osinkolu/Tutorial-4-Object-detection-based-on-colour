{
 "cells": [
  {
   "cell_type": "markdown",
   "metadata": {},
   "source": [
    "## Trace My Pen.\n",
    "\n",
    "Wwlcome back folks to another episode of The tutorial on OpenCV. Permit me to share with you a quick story.\n",
    "          Sometimes ago, my colleagues Tried to build a device using a gyrometer which could be used to write directly into a pc, the idea was to write on any surface and get corresponding results on the pc. Cool right, it's like writing instead of typing. Yes, they made the device, but on the day of the project defence, Dr Akintadec(one of the conducting lecturers) disagreed with the idea. he claimed that the gyroscope should have a point of origin on the (X,Y,Z) axis so the software backend can take reasonable measurements and convert to traces.\n",
    "    This eventually brings us to this quick trace project, Where we detect the colour of my object(PEN) and track it's movement."
   ]
  },
  {
   "cell_type": "markdown",
   "metadata": {},
   "source": [
    "###### The Pipeline\n",
    "The pipeline is quite easy, First is to get the frame, mask out all other color regions asides our color of interest, and lastly draw a bounding circle for the contour as well as a line between the position of where the contour was found last and where is is now."
   ]
  },
  {
   "cell_type": "markdown",
   "metadata": {},
   "source": [
    "###### Import Packages.\n",
    "Firstly, we import the packages needed to run the algorithm. If you've been following my previous tutorials, the only package new to you may be Deque. The deque is just a form of list with super-fast edits, like fast appends, fast pops, e.tc. it even has an append-left feature which will be very useful in this project."
   ]
  },
  {
   "cell_type": "markdown",
   "metadata": {},
   "source": [
    "Time is another package available in python which helps us keep track of real time."
   ]
  },
  {
   "cell_type": "code",
   "execution_count": 7,
   "metadata": {},
   "outputs": [],
   "source": [
    "from collections import deque # import deque a far faster list\n",
    "import numpy as np # import numpy as needed\n",
    "import imutils # we definately need imutils convienience functions.\n",
    "import time # time is time\n",
    "import cv2 # The major library, opencv"
   ]
  },
  {
   "cell_type": "markdown",
   "metadata": {},
   "source": [
    "###### Set Params\n",
    "In the short code below, i defined the upper and lower boundary for the color of my object (red pen), i actually used trial by error method to get a good span for the upper and lower color boundary, i left the tip to do this down in the bonus section."
   ]
  },
  {
   "cell_type": "markdown",
   "metadata": {},
   "source": [
    "Having defined these, i initialized points to be a deque(think of it like a speed list) with maximum length of 64, the max lenght there pops out the item in the list when i append a new one. Finally i start the video Stream giving it some 2 seconds to warm up."
   ]
  },
  {
   "cell_type": "code",
   "execution_count": 8,
   "metadata": {
    "scrolled": true
   },
   "outputs": [
    {
     "name": "stdout",
     "output_type": "stream",
     "text": [
      "Booting the Video stream,\n"
     ]
    }
   ],
   "source": [
    "lower_color_boundary = (161, 155, 84) # define the lower boundary of the colour of the object in HSV\n",
    "upper_color_boundary = (179, 255, 255)# define the upper region of the colour of the object in HSV\n",
    "points        = deque(maxlen = 64) # the Deque with a maximum hold size of 64 contents.\n",
    "\n",
    "print(\"Booting the Video stream,\")\n",
    "vs = cv2.VideoCapture(\"video_file.mp4\")#start the video stream.\n",
    "time.sleep(2.0) #set sleep time to 2.0 seconds"
   ]
  },
  {
   "cell_type": "markdown",
   "metadata": {},
   "source": [
    "###### The Big Deal\n",
    "in this section, we do everything. First, i placed the whole process in a while loop since a video is just continous moving frame of pictures."
   ]
  },
  {
   "cell_type": "markdown",
   "metadata": {},
   "source": [
    "In the next line i read off the frame from the video master, next, i seperate the ret and frame. The ret is simply just a boolean regarding whether there was a return at all from the vs.read(). Next if there is nothing in the frame, break stop the process.Another way could be if ret is false, break. In the next line, i used imutils to resize the frame. The imutils resize saves a lot of stress in preserving the aspect ratio than stressful standard OpenCV methods."
   ]
  },
  {
   "cell_type": "markdown",
   "metadata": {},
   "source": [
    "Following that, i decided to flip the image. I did this to obtain the mirror view of my frame which is absolutely quite cool for direct streaming from the camera."
   ]
  },
  {
   "cell_type": "markdown",
   "metadata": {},
   "source": [
    "###### Processing The Frame.\n",
    "The frame is ready, first i blur the frame using the popular gaussian blur method, this helps to reduce noise in the image. Next, i convert the colour from the BGR to HSV. The HSV is a colour band which means Hue, Saturation and Value. it is a colour representation closer to the Human Vision(our way of seeing). "
   ]
  },
  {
   "cell_type": "markdown",
   "metadata": {},
   "source": [
    "In the next step, i create a mask by thresholding the image such that i save out only colours within my upper and lower boundary, which in this case is the colour of my red pen. After masking out other parts of the image, i erode, and dilate to futher reduce high frequency noise caused by thresholding."
   ]
  },
  {
   "cell_type": "markdown",
   "metadata": {},
   "source": [
    "###### All said and done??\n",
    "Now that we've gotten a view of the object(my red pen), we find contours, grab them using imutils. In the following IF statement, i pick out the contour with the maximum Area, which is definately the contour of my object, the remaining contours i'm quite positive is just noise. Unless if you plan to track two objects of the same colour. In the next line, i prepare parameters required to construct a bounding circle on the object. The first is the radius and the xy co-ordinates, next i used cv2.Moments to obtain it's center. Then if the radius is reasonable enough, i draw a bounding circle around my object as well as a filled in dot at the centre of the object."
   ]
  },
  {
   "cell_type": "markdown",
   "metadata": {},
   "source": [
    "Very importantly, i append-left the centre of my object to the deque. Remember that my deque has a max-length of 64. I'll explain why i did this shortly."
   ]
  },
  {
   "cell_type": "markdown",
   "metadata": {},
   "source": [
    "###### Draw Traces.\n",
    "The last and final step is to draw the traces. To do this i decided to connect all my points in order with a single line, like in a chain form. i also specified that if The value in the list is None, it should ignore and start the while loop all over. I did this so that i avoid drawing a point at (0,0) which is (None,None) on my frame when the object is not detected."
   ]
  },
  {
   "cell_type": "markdown",
   "metadata": {},
   "source": [
    "On the other hand, if i find my object, it connects all 64 dots together and traces it out. I used a max-length of 64 to avoid my screen from getting all messed up with traces. See the effects yourself.Run the Code."
   ]
  },
  {
   "cell_type": "code",
   "execution_count": 6,
   "metadata": {},
   "outputs": [],
   "source": [
    "while True:\n",
    "    frame = vs.read() #Read off the frame from the video stream\n",
    "    ret,frame  = frame # Use this if you want to load in your video\n",
    "    if frame is None: # If there is no frame, save my pc from going through any stress at all\n",
    "        break\n",
    "    # otherwise, if we have a frame, we proceed with the following code\n",
    "    frame = imutils.resize(frame, width = 700) # so much easier than open cv, keeping aspect ratio intact\n",
    "    frame = cv2.flip(frame,1) # i want the mirror view, it's very helpful especially if i'm streaming\n",
    "    \n",
    "    #processing the frame \n",
    "    blurred = cv2.GaussianBlur(frame, (11,11),0) # blurr helps to reduce high frequency noise, definately helps model\n",
    "    hsv = cv2.cvtColor(blurred, cv2.COLOR_BGR2HSV) # convert my color to the HSV format\n",
    "    \n",
    "    # Create a mask\n",
    "    mask = cv2.inRange(hsv, lower_color_boundary, upper_color_boundary) # mask other regions except colors in range of upper to lower (thresholding)\n",
    "    mask = cv2.erode(mask, None, iterations =2) # Reduce noise caused by thresholding\n",
    "    mask = cv2.dilate(mask, None, iterations =2) # foreground the found object i.e futher reduce noise.\n",
    "    \n",
    "    \n",
    "    contours = cv2.findContours(mask.copy(), cv2.RETR_EXTERNAL, cv2.CHAIN_APPROX_SIMPLE) # find contours\n",
    "    contours = imutils.grab_contours(contours) # Grab the contours using imutils\n",
    "    center = None # center is initially set to none\n",
    "    if len(contours) > 0: # if the contours list is not empty proceed\n",
    "        contour = max(contours, key = cv2.contourArea) # select contour with maximum Area, most likely our object\n",
    "        ((x,y), radius) = cv2.minEnclosingCircle(contour) # pick up co-ordinates for drawing a circle around the object\n",
    "        M = cv2.moments(contour) # Extract moments from the contour.\n",
    "        center = (int(M[\"m10\"] / M[\"m00\"]), int(M[\"m01\"] / M[\"m00\"])) # Obtain the centre of mass of the object.\n",
    "        if radius > 10: # if we have a reasonable radius for the proposed object detected\n",
    "            cv2.circle(frame, (int(x), int(y)), int(radius), (0,255,255), 2) # Draw a circle to bound the Object\n",
    "            cv2.circle(frame, center, 5, (0,0,225), -1) # Draw a filled in dot at the centre of the circle\n",
    "\n",
    "    points.appendleft(center) # Tell my deque to keep the position of the centre of that frame.\n",
    "    \n",
    "    \n",
    "    # Speedily draw all the in the deque.\n",
    "    \n",
    "    for i in range (1, len(points)): #for all the points in the deque\n",
    "        if points[i-1] is None or points[i] is None: # if we have none as the current point or previous\n",
    "            continue # Start the while loop all over again.\n",
    "        thickness = int(np.sqrt(64 / float(i+1)) * 2.5) # let's make thickness vary with point in deque\n",
    "        cv2.line(frame, points[i-1], points[i], (0,0,225), thickness) #draw a line between all 64 points in the deque\n",
    "    cv2.imshow(\"Frame by Frame makes Video\", frame) # let's see the frame X frame\n",
    "    \n",
    "    \n",
    "    # Closing a video frame\n",
    "    key = cv2.waitKey(1) #wait for the cv key\n",
    "    if key == ord(\"x\"): # If the x button is pressed\n",
    "        break # Break from the loop\n",
    "vs.release() # Let opencv release the video loader\n",
    "cv2.destroyAllWindows() # Destroy all windows to close it\n"
   ]
  },
  {
   "cell_type": "markdown",
   "metadata": {},
   "source": [
    "### Bonus Tip.\n",
    "How on earth did i find out the HSV values for my red pen. I am no magician, i'm a programmer and i definately do not know all things. You can look up on google for the HSV values for your colour of interest and test them down here with this short code like i did(trial by error). I have put the code in a RAWNB format. "
   ]
  },
  {
   "cell_type": "code",
   "execution_count": 9,
   "metadata": {},
   "outputs": [
    {
     "data": {
      "text/plain": [
       "True"
      ]
     },
     "execution_count": 9,
     "metadata": {},
     "output_type": "execute_result"
    }
   ],
   "source": [
    "img = cv2.imread('frame.jpg') #load in your image of intrest\n",
    "\n",
    "RED_MIN = np.array([161, 155, 84],np.uint8) # minimum color for reddish\n",
    "RED_MAX = np.array([179, 255, 255],np.uint8) # max color reddish \n",
    "\n",
    "hsv_img = cv2.cvtColor(img,cv2.COLOR_BGR2HSV) #convert the image color format to HSV\n",
    "\n",
    "frame_threshed = cv2.inRange(hsv_img, RED_MIN, RED_MAX) #Threshold the image\n",
    "cv2.imshow('Thresholded image', frame_threshed) # show the thresholded image\n",
    "cv2.imshow('original image', img) #Show the original image\n",
    "cv2.waitKey(0) # close convieniently."
   ]
  },
  {
   "cell_type": "code",
   "execution_count": null,
   "metadata": {},
   "outputs": [],
   "source": []
  }
 ],
 "metadata": {
  "kernelspec": {
   "display_name": "Python 3",
   "language": "python",
   "name": "python3"
  },
  "language_info": {
   "codemirror_mode": {
    "name": "ipython",
    "version": 3
   },
   "file_extension": ".py",
   "mimetype": "text/x-python",
   "name": "python",
   "nbconvert_exporter": "python",
   "pygments_lexer": "ipython3",
   "version": "3.7.4"
  }
 },
 "nbformat": 4,
 "nbformat_minor": 2
}
